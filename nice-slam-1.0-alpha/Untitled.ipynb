{
 "cells": [
  {
   "cell_type": "code",
   "execution_count": 41,
   "id": "d6afedd0",
   "metadata": {},
   "outputs": [],
   "source": [
    "from src.conv_onet.models.decoder_copy import NICE\n",
    "import torch\n",
    "import torch.nn as nn\n",
    "import torch.nn.functional as F"
   ]
  },
  {
   "cell_type": "code",
   "execution_count": 42,
   "id": "e352ae3f",
   "metadata": {},
   "outputs": [],
   "source": [
    "grid_coarse = torch.zeros([1, 32, 3, 4, 6])\n",
    "grid_middle = torch.zeros([1, 32, 10, 12, 20])\n",
    "grid_fine = torch.zeros([1, 32, 21, 25, 41])\n",
    "grid_color = torch.zeros([1, 32, 21, 25, 41])"
   ]
  },
  {
   "cell_type": "code",
   "execution_count": 43,
   "id": "d94ebed7",
   "metadata": {},
   "outputs": [],
   "source": [
    "bound = torch.Tensor([[0.0,6.5],[0.0,4.0],[0,3.5]])"
   ]
  },
  {
   "cell_type": "code",
   "execution_count": 5,
   "id": "0aedea48",
   "metadata": {},
   "outputs": [],
   "source": [
    "coarse_len = 2\n",
    "middle_len = 0.32\n",
    "fine_len = 0.16"
   ]
  },
  {
   "cell_type": "code",
   "execution_count": 44,
   "id": "ad07f1f4",
   "metadata": {},
   "outputs": [],
   "source": [
    "c_grid = dict({\"grid_coarse\": grid_coarse, \"grid_middle\": grid_middle, \n",
    "               \"grid_fine\": grid_fine, \"grid_color\": grid_color})"
   ]
  },
  {
   "cell_type": "code",
   "execution_count": 45,
   "id": "90056c7e",
   "metadata": {},
   "outputs": [],
   "source": [
    "model = NICE(coarse = True)"
   ]
  },
  {
   "cell_type": "code",
   "execution_count": 111,
   "id": "73af6648",
   "metadata": {},
   "outputs": [],
   "source": [
    "x_range = torch.arange(bound[0][0], bound[0][1], middle_len)\n",
    "y_range = torch.arange(bound[1][0], bound[1][1], middle_len)\n",
    "z_range = torch.arange(bound[2][0], bound[2][1], middle_len)"
   ]
  },
  {
   "cell_type": "code",
   "execution_count": 7,
   "id": "213cacc9",
   "metadata": {},
   "outputs": [
    {
     "ename": "NameError",
     "evalue": "name 'x_range' is not defined",
     "output_type": "error",
     "traceback": [
      "\u001b[0;31m---------------------------------------------------------------------------\u001b[0m",
      "\u001b[0;31mNameError\u001b[0m                                 Traceback (most recent call last)",
      "\u001b[0;32m/tmp/ipykernel_12793/3622542110.py\u001b[0m in \u001b[0;36m<module>\u001b[0;34m\u001b[0m\n\u001b[1;32m      1\u001b[0m \u001b[0mp_list\u001b[0m \u001b[0;34m=\u001b[0m \u001b[0;34m[\u001b[0m\u001b[0;34m]\u001b[0m\u001b[0;34m\u001b[0m\u001b[0;34m\u001b[0m\u001b[0m\n\u001b[0;32m----> 2\u001b[0;31m \u001b[0;32mfor\u001b[0m \u001b[0mi\u001b[0m \u001b[0;32min\u001b[0m \u001b[0mx_range\u001b[0m\u001b[0;34m:\u001b[0m\u001b[0;34m\u001b[0m\u001b[0;34m\u001b[0m\u001b[0m\n\u001b[0m\u001b[1;32m      3\u001b[0m     \u001b[0;32mfor\u001b[0m \u001b[0mj\u001b[0m \u001b[0;32min\u001b[0m \u001b[0my_range\u001b[0m\u001b[0;34m:\u001b[0m\u001b[0;34m\u001b[0m\u001b[0;34m\u001b[0m\u001b[0m\n\u001b[1;32m      4\u001b[0m         \u001b[0;32mfor\u001b[0m \u001b[0mk\u001b[0m \u001b[0;32min\u001b[0m \u001b[0mz_range\u001b[0m\u001b[0;34m:\u001b[0m\u001b[0;34m\u001b[0m\u001b[0;34m\u001b[0m\u001b[0m\n\u001b[1;32m      5\u001b[0m             \u001b[0mp_list\u001b[0m\u001b[0;34m.\u001b[0m\u001b[0mappend\u001b[0m\u001b[0;34m(\u001b[0m\u001b[0;34m[\u001b[0m\u001b[0mi\u001b[0m\u001b[0;34m,\u001b[0m \u001b[0mj\u001b[0m\u001b[0;34m,\u001b[0m \u001b[0mk\u001b[0m\u001b[0;34m]\u001b[0m\u001b[0;34m)\u001b[0m\u001b[0;34m\u001b[0m\u001b[0;34m\u001b[0m\u001b[0m\n",
      "\u001b[0;31mNameError\u001b[0m: name 'x_range' is not defined"
     ]
    }
   ],
   "source": [
    "p_list = []\n",
    "for i in x_range:\n",
    "    for j in y_range:\n",
    "        for k in z_range:\n",
    "            p_list.append([i, j, k])\n",
    "\n",
    "p_tensor = torch.Tensor(p_list)\n",
    "model.forward(p_tensor, c_grid, 'coarse')[:, -1]\n"
   ]
  },
  {
   "cell_type": "code",
   "execution_count": 8,
   "id": "9cb65e0f",
   "metadata": {},
   "outputs": [],
   "source": [
    "p = torch.Tensor([[0,0,0], [0,0,0]])"
   ]
  },
  {
   "cell_type": "code",
   "execution_count": 59,
   "id": "226d3554",
   "metadata": {},
   "outputs": [],
   "source": [
    "feature_0 = torch.arange(0, 10, 0.1)\n",
    "test_prob = []\n",
    "for fea in feature_0:\n",
    "    grid_middle = torch.zeros([1, 32, 10, 12, 20])\n",
    "    grid_middle[0, 1, 0, 0, 0] = fea\n",
    "    c_grid = dict({\"grid_coarse\": grid_coarse, \"grid_middle\": grid_middle, \n",
    "                \"grid_fine\": grid_fine, \"grid_color\": grid_color})\n",
    "    prob = model.forward(p, c_grid, 'middle')[:, -1][0]\n",
    "    if prob >-0.1 and prob <0.1:\n",
    "        test_prob.append([grid_middle[0, 1, 0, 0, 0], prob])"
   ]
  },
  {
   "cell_type": "code",
   "execution_count": 20,
   "id": "520b35f0",
   "metadata": {},
   "outputs": [
    {
     "data": {
      "text/plain": [
       "[]"
      ]
     },
     "execution_count": 20,
     "metadata": {},
     "output_type": "execute_result"
    }
   ],
   "source": [
    "test_prob"
   ]
  },
  {
   "cell_type": "code",
   "execution_count": 36,
   "id": "a8eadbf9",
   "metadata": {},
   "outputs": [],
   "source": [
    "import numpy as np"
   ]
  },
  {
   "cell_type": "code",
   "execution_count": 93,
   "id": "ce92e6ca",
   "metadata": {},
   "outputs": [
    {
     "name": "stdout",
     "output_type": "stream",
     "text": [
      "tensor(0.0106, grad_fn=<SumBackward0>)\n",
      "tensor(0.0008, grad_fn=<SumBackward0>)\n",
      "tensor(0.0011, grad_fn=<SumBackward0>)\n",
      "tensor(0.0037, grad_fn=<SumBackward0>)\n",
      "tensor(0.0038, grad_fn=<SumBackward0>)\n",
      "tensor(0.0019, grad_fn=<SumBackward0>)\n",
      "1\n",
      "tensor(0.0003, grad_fn=<SumBackward0>)\n",
      "1\n",
      "tensor(9.2323e-05, grad_fn=<SumBackward0>)\n",
      "1\n",
      "tensor(0.0009, grad_fn=<SumBackward0>)\n",
      "tensor(0.0015, grad_fn=<SumBackward0>)\n",
      "tensor(0.0015, grad_fn=<SumBackward0>)\n",
      "1\n",
      "tensor(0.0008, grad_fn=<SumBackward0>)\n",
      "1\n",
      "tensor(0.0001, grad_fn=<SumBackward0>)\n",
      "1\n",
      "tensor(2.6694e-05, grad_fn=<SumBackward0>)\n",
      "1\n",
      "tensor(0.0004, grad_fn=<SumBackward0>)\n",
      "tensor(0.0007, grad_fn=<SumBackward0>)\n",
      "tensor(0.0008, grad_fn=<SumBackward0>)\n",
      "tensor(0.0005, grad_fn=<SumBackward0>)\n",
      "1\n",
      "tensor(0.0002, grad_fn=<SumBackward0>)\n",
      "1\n",
      "tensor(3.8124e-07, grad_fn=<SumBackward0>)\n",
      "1\n",
      "tensor(0.0001, grad_fn=<SumBackward0>)\n",
      "tensor(0.0003, grad_fn=<SumBackward0>)\n",
      "tensor(0.0004, grad_fn=<SumBackward0>)\n",
      "tensor(0.0003, grad_fn=<SumBackward0>)\n",
      "1\n",
      "tensor(8.4564e-05, grad_fn=<SumBackward0>)\n",
      "1\n",
      "tensor(6.3847e-08, grad_fn=<SumBackward0>)\n",
      "1\n",
      "tensor(8.6015e-05, grad_fn=<SumBackward0>)\n",
      "tensor(0.0002, grad_fn=<SumBackward0>)\n",
      "tensor(0.0002, grad_fn=<SumBackward0>)\n",
      "1\n",
      "tensor(7.8681e-05, grad_fn=<SumBackward0>)\n",
      "1\n"
     ]
    },
    {
     "ename": "KeyboardInterrupt",
     "evalue": "",
     "output_type": "error",
     "traceback": [
      "\u001b[0;31m---------------------------------------------------------------------------\u001b[0m",
      "\u001b[0;31mKeyboardInterrupt\u001b[0m                         Traceback (most recent call last)",
      "\u001b[0;32m/tmp/ipykernel_12793/3851751351.py\u001b[0m in \u001b[0;36m<module>\u001b[0;34m\u001b[0m\n\u001b[1;32m     19\u001b[0m     \u001b[0mloss\u001b[0m\u001b[0;34m.\u001b[0m\u001b[0mbackward\u001b[0m\u001b[0;34m(\u001b[0m\u001b[0;34m)\u001b[0m\u001b[0;34m\u001b[0m\u001b[0;34m\u001b[0m\u001b[0m\n\u001b[1;32m     20\u001b[0m     \u001b[0mloss1\u001b[0m \u001b[0;34m=\u001b[0m \u001b[0mloss\u001b[0m\u001b[0;34m\u001b[0m\u001b[0;34m\u001b[0m\u001b[0m\n\u001b[0;32m---> 21\u001b[0;31m     \u001b[0moptimizer\u001b[0m\u001b[0;34m.\u001b[0m\u001b[0mstep\u001b[0m\u001b[0;34m(\u001b[0m\u001b[0;34m)\u001b[0m\u001b[0;34m\u001b[0m\u001b[0;34m\u001b[0m\u001b[0m\n\u001b[0m",
      "\u001b[0;32m~/miniconda3/envs/nice-slam/lib/python3.7/site-packages/torch/optim/optimizer.py\u001b[0m in \u001b[0;36mwrapper\u001b[0;34m(*args, **kwargs)\u001b[0m\n\u001b[1;32m     87\u001b[0m                 \u001b[0mprofile_name\u001b[0m \u001b[0;34m=\u001b[0m \u001b[0;34m\"Optimizer.step#{}.step\"\u001b[0m\u001b[0;34m.\u001b[0m\u001b[0mformat\u001b[0m\u001b[0;34m(\u001b[0m\u001b[0mobj\u001b[0m\u001b[0;34m.\u001b[0m\u001b[0m__class__\u001b[0m\u001b[0;34m.\u001b[0m\u001b[0m__name__\u001b[0m\u001b[0;34m)\u001b[0m\u001b[0;34m\u001b[0m\u001b[0;34m\u001b[0m\u001b[0m\n\u001b[1;32m     88\u001b[0m                 \u001b[0;32mwith\u001b[0m \u001b[0mtorch\u001b[0m\u001b[0;34m.\u001b[0m\u001b[0mautograd\u001b[0m\u001b[0;34m.\u001b[0m\u001b[0mprofiler\u001b[0m\u001b[0;34m.\u001b[0m\u001b[0mrecord_function\u001b[0m\u001b[0;34m(\u001b[0m\u001b[0mprofile_name\u001b[0m\u001b[0;34m)\u001b[0m\u001b[0;34m:\u001b[0m\u001b[0;34m\u001b[0m\u001b[0;34m\u001b[0m\u001b[0m\n\u001b[0;32m---> 89\u001b[0;31m                     \u001b[0;32mreturn\u001b[0m \u001b[0mfunc\u001b[0m\u001b[0;34m(\u001b[0m\u001b[0;34m*\u001b[0m\u001b[0margs\u001b[0m\u001b[0;34m,\u001b[0m \u001b[0;34m**\u001b[0m\u001b[0mkwargs\u001b[0m\u001b[0;34m)\u001b[0m\u001b[0;34m\u001b[0m\u001b[0;34m\u001b[0m\u001b[0m\n\u001b[0m\u001b[1;32m     90\u001b[0m             \u001b[0;32mreturn\u001b[0m \u001b[0mwrapper\u001b[0m\u001b[0;34m\u001b[0m\u001b[0;34m\u001b[0m\u001b[0m\n\u001b[1;32m     91\u001b[0m \u001b[0;34m\u001b[0m\u001b[0m\n",
      "\u001b[0;32m~/miniconda3/envs/nice-slam/lib/python3.7/site-packages/torch/autograd/grad_mode.py\u001b[0m in \u001b[0;36mdecorate_context\u001b[0;34m(*args, **kwargs)\u001b[0m\n\u001b[1;32m     25\u001b[0m         \u001b[0;32mdef\u001b[0m \u001b[0mdecorate_context\u001b[0m\u001b[0;34m(\u001b[0m\u001b[0;34m*\u001b[0m\u001b[0margs\u001b[0m\u001b[0;34m,\u001b[0m \u001b[0;34m**\u001b[0m\u001b[0mkwargs\u001b[0m\u001b[0;34m)\u001b[0m\u001b[0;34m:\u001b[0m\u001b[0;34m\u001b[0m\u001b[0;34m\u001b[0m\u001b[0m\n\u001b[1;32m     26\u001b[0m             \u001b[0;32mwith\u001b[0m \u001b[0mself\u001b[0m\u001b[0;34m.\u001b[0m\u001b[0m__class__\u001b[0m\u001b[0;34m(\u001b[0m\u001b[0;34m)\u001b[0m\u001b[0;34m:\u001b[0m\u001b[0;34m\u001b[0m\u001b[0;34m\u001b[0m\u001b[0m\n\u001b[0;32m---> 27\u001b[0;31m                 \u001b[0;32mreturn\u001b[0m \u001b[0mfunc\u001b[0m\u001b[0;34m(\u001b[0m\u001b[0;34m*\u001b[0m\u001b[0margs\u001b[0m\u001b[0;34m,\u001b[0m \u001b[0;34m**\u001b[0m\u001b[0mkwargs\u001b[0m\u001b[0;34m)\u001b[0m\u001b[0;34m\u001b[0m\u001b[0;34m\u001b[0m\u001b[0m\n\u001b[0m\u001b[1;32m     28\u001b[0m         \u001b[0;32mreturn\u001b[0m \u001b[0mcast\u001b[0m\u001b[0;34m(\u001b[0m\u001b[0mF\u001b[0m\u001b[0;34m,\u001b[0m \u001b[0mdecorate_context\u001b[0m\u001b[0;34m)\u001b[0m\u001b[0;34m\u001b[0m\u001b[0;34m\u001b[0m\u001b[0m\n\u001b[1;32m     29\u001b[0m \u001b[0;34m\u001b[0m\u001b[0m\n",
      "\u001b[0;32m~/miniconda3/envs/nice-slam/lib/python3.7/site-packages/torch/optim/adam.py\u001b[0m in \u001b[0;36mstep\u001b[0;34m(self, closure)\u001b[0m\n\u001b[1;32m    117\u001b[0m                    \u001b[0mgroup\u001b[0m\u001b[0;34m[\u001b[0m\u001b[0;34m'lr'\u001b[0m\u001b[0;34m]\u001b[0m\u001b[0;34m,\u001b[0m\u001b[0;34m\u001b[0m\u001b[0;34m\u001b[0m\u001b[0m\n\u001b[1;32m    118\u001b[0m                    \u001b[0mgroup\u001b[0m\u001b[0;34m[\u001b[0m\u001b[0;34m'weight_decay'\u001b[0m\u001b[0;34m]\u001b[0m\u001b[0;34m,\u001b[0m\u001b[0;34m\u001b[0m\u001b[0;34m\u001b[0m\u001b[0m\n\u001b[0;32m--> 119\u001b[0;31m                    group['eps'])\n\u001b[0m\u001b[1;32m    120\u001b[0m         \u001b[0;32mreturn\u001b[0m \u001b[0mloss\u001b[0m\u001b[0;34m\u001b[0m\u001b[0;34m\u001b[0m\u001b[0m\n",
      "\u001b[0;32m~/miniconda3/envs/nice-slam/lib/python3.7/site-packages/torch/optim/_functional.py\u001b[0m in \u001b[0;36madam\u001b[0;34m(params, grads, exp_avgs, exp_avg_sqs, max_exp_avg_sqs, state_steps, amsgrad, beta1, beta2, lr, weight_decay, eps)\u001b[0m\n\u001b[1;32m     90\u001b[0m             \u001b[0mdenom\u001b[0m \u001b[0;34m=\u001b[0m \u001b[0;34m(\u001b[0m\u001b[0mmax_exp_avg_sqs\u001b[0m\u001b[0;34m[\u001b[0m\u001b[0mi\u001b[0m\u001b[0;34m]\u001b[0m\u001b[0;34m.\u001b[0m\u001b[0msqrt\u001b[0m\u001b[0;34m(\u001b[0m\u001b[0;34m)\u001b[0m \u001b[0;34m/\u001b[0m \u001b[0mmath\u001b[0m\u001b[0;34m.\u001b[0m\u001b[0msqrt\u001b[0m\u001b[0;34m(\u001b[0m\u001b[0mbias_correction2\u001b[0m\u001b[0;34m)\u001b[0m\u001b[0;34m)\u001b[0m\u001b[0;34m.\u001b[0m\u001b[0madd_\u001b[0m\u001b[0;34m(\u001b[0m\u001b[0meps\u001b[0m\u001b[0;34m)\u001b[0m\u001b[0;34m\u001b[0m\u001b[0;34m\u001b[0m\u001b[0m\n\u001b[1;32m     91\u001b[0m         \u001b[0;32melse\u001b[0m\u001b[0;34m:\u001b[0m\u001b[0;34m\u001b[0m\u001b[0;34m\u001b[0m\u001b[0m\n\u001b[0;32m---> 92\u001b[0;31m             \u001b[0mdenom\u001b[0m \u001b[0;34m=\u001b[0m \u001b[0;34m(\u001b[0m\u001b[0mexp_avg_sq\u001b[0m\u001b[0;34m.\u001b[0m\u001b[0msqrt\u001b[0m\u001b[0;34m(\u001b[0m\u001b[0;34m)\u001b[0m \u001b[0;34m/\u001b[0m \u001b[0mmath\u001b[0m\u001b[0;34m.\u001b[0m\u001b[0msqrt\u001b[0m\u001b[0;34m(\u001b[0m\u001b[0mbias_correction2\u001b[0m\u001b[0;34m)\u001b[0m\u001b[0;34m)\u001b[0m\u001b[0;34m.\u001b[0m\u001b[0madd_\u001b[0m\u001b[0;34m(\u001b[0m\u001b[0meps\u001b[0m\u001b[0;34m)\u001b[0m\u001b[0;34m\u001b[0m\u001b[0;34m\u001b[0m\u001b[0m\n\u001b[0m\u001b[1;32m     93\u001b[0m \u001b[0;34m\u001b[0m\u001b[0m\n\u001b[1;32m     94\u001b[0m         \u001b[0mstep_size\u001b[0m \u001b[0;34m=\u001b[0m \u001b[0mlr\u001b[0m \u001b[0;34m/\u001b[0m \u001b[0mbias_correction1\u001b[0m\u001b[0;34m\u001b[0m\u001b[0;34m\u001b[0m\u001b[0m\n",
      "\u001b[0;31mKeyboardInterrupt\u001b[0m: "
     ]
    }
   ],
   "source": [
    "from torch.autograd import Variable\n",
    "p = torch.Tensor([[0,0,0], [0,1,0]])\n",
    "middle_grid_para = Variable(torch.zeros(32), requires_grad = True)\n",
    "optimizer = torch.optim.Adam([{'params': middle_grid_para, 'lr': 0.01}])\n",
    "loss1 = torch.Tensor([3]).pow(2).sum()\n",
    "for n in range(50):\n",
    "\n",
    "    optimizer.zero_grad()\n",
    "    grid_middle = torch.zeros([1, 32, 10, 12, 20])\n",
    "    grid_middle[0, :, 0, 0, 0] = middle_grid_para\n",
    "    c_grid = dict({\"grid_coarse\": grid_coarse, \"grid_middle\": grid_middle, \n",
    "               \"grid_fine\": grid_fine, \"grid_color\": grid_color})\n",
    "    prob = model.forward(p, c_grid, 'middle')[:, -1][0]\n",
    "    loss = (prob).pow(2).sum()\n",
    "    print(loss)\n",
    "    if n>1 and loss.item()<loss1.item():\n",
    "        print(1)\n",
    "        final_middle = middle_grid_para\n",
    "        loss1 = loss\n",
    "    loss.backward()\n",
    "    optimizer.step()\n"
   ]
  },
  {
   "cell_type": "code",
   "execution_count": 90,
   "id": "a4ed6d6b",
   "metadata": {},
   "outputs": [
    {
     "data": {
      "text/plain": [
       "tensor([ 0.0312, -0.0013,  0.0069,  0.0369, -0.0710,  0.0380, -0.0020,  0.0252,\n",
       "        -0.0129,  0.0283, -0.0256,  0.0732, -0.0091, -0.0298, -0.0052,  0.0092,\n",
       "         0.0329,  0.0244,  0.0750,  0.1114, -0.0270, -0.0052,  0.0126, -0.0081,\n",
       "         0.0037, -0.0259,  0.0342,  0.0333,  0.0150, -0.0820,  0.0344,  0.0101],\n",
       "       requires_grad=True)"
      ]
     },
     "execution_count": 90,
     "metadata": {},
     "output_type": "execute_result"
    }
   ],
   "source": [
    "\n",
    "final_middle"
   ]
  },
  {
   "cell_type": "code",
   "execution_count": 91,
   "id": "29d3a682",
   "metadata": {},
   "outputs": [
    {
     "data": {
      "text/plain": [
       "tensor(0.0042, grad_fn=<SelectBackward>)"
      ]
     },
     "execution_count": 91,
     "metadata": {},
     "output_type": "execute_result"
    }
   ],
   "source": [
    "grid_middle = torch.zeros([1, 32, 10, 12, 20])\n",
    "grid_middle[0, :, 0, 0, 0] = final_middle\n",
    "c_grid = dict({\"grid_coarse\": grid_coarse, \"grid_middle\": grid_middle, \n",
    "            \"grid_fine\": grid_fine, \"grid_color\": grid_color})\n",
    "model.forward(p, c_grid, 'middle')[:, -1][0]"
   ]
  },
  {
   "cell_type": "code",
   "execution_count": null,
   "id": "d0d67788",
   "metadata": {},
   "outputs": [],
   "source": []
  }
 ],
 "metadata": {
  "interpreter": {
   "hash": "1c4c175f2b9434f4138d72658ca9bbb5c8103c9d5f04cd2c122c1094c09e0765"
  },
  "kernelspec": {
   "display_name": "Python 3.7.11 ('nice-slam')",
   "language": "python",
   "name": "python3"
  },
  "language_info": {
   "codemirror_mode": {
    "name": "ipython",
    "version": 3
   },
   "file_extension": ".py",
   "mimetype": "text/x-python",
   "name": "python",
   "nbconvert_exporter": "python",
   "pygments_lexer": "ipython3",
   "version": "3.7.11"
  }
 },
 "nbformat": 4,
 "nbformat_minor": 5
}
