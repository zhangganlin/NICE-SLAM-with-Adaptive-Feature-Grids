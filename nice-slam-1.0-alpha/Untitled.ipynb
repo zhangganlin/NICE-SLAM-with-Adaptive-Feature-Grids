{
 "cells": [
  {
   "cell_type": "code",
   "execution_count": 41,
   "id": "d6afedd0",
   "metadata": {},
   "outputs": [],
   "source": [
    "from src.conv_onet.models.decoder_copy import NICE\n",
    "import torch\n",
    "import torch.nn as nn\n",
    "import torch.nn.functional as F"
   ]
  },
  {
   "cell_type": "code",
   "execution_count": 42,
   "id": "e352ae3f",
   "metadata": {},
   "outputs": [],
   "source": [
    "grid_coarse = torch.zeros([1, 32, 3, 4, 6])\n",
    "grid_middle = torch.zeros([1, 32, 10, 12, 20])\n",
    "grid_fine = torch.zeros([1, 32, 21, 25, 41])\n",
    "grid_color = torch.zeros([1, 32, 21, 25, 41])"
   ]
  },
  {
   "cell_type": "code",
   "execution_count": 43,
   "id": "d94ebed7",
   "metadata": {},
   "outputs": [],
   "source": [
    "bound = torch.Tensor([[0.0,6.5],[0.0,4.0],[0,3.5]])"
   ]
  },
  {
   "cell_type": "code",
   "execution_count": 5,
   "id": "0aedea48",
   "metadata": {},
   "outputs": [],
   "source": [
    "coarse_len = 2\n",
    "middle_len = 0.32\n",
    "fine_len = 0.16"
   ]
  },
  {
   "cell_type": "code",
   "execution_count": 44,
   "id": "ad07f1f4",
   "metadata": {},
   "outputs": [],
   "source": [
    "c_grid = dict({\"grid_coarse\": grid_coarse, \"grid_middle\": grid_middle, \n",
    "               \"grid_fine\": grid_fine, \"grid_color\": grid_color})"
   ]
  },
  {
   "cell_type": "code",
   "execution_count": 45,
   "id": "90056c7e",
   "metadata": {},
   "outputs": [],
   "source": [
    "model = NICE(coarse = True)"
   ]
  },
  {
   "cell_type": "code",
   "execution_count": 108,
   "id": "73af6648",
   "metadata": {},
   "outputs": [],
   "source": [
    "x_range = torch.arange(bound[0][0], bound[0][1], middle_len)\n",
    "y_range = torch.arange(bound[1][0], bound[1][1], middle_len)\n",
    "z_range = torch.arange(bound[2][0], bound[2][1], middle_len)"
   ]
  },
  {
   "cell_type": "code",
   "execution_count": 110,
   "id": "213cacc9",
   "metadata": {},
   "outputs": [
    {
     "data": {
      "text/plain": [
       "tensor([1.1843e-03, 1.3579e-05, 5.0613e-03,  ..., 2.5837e-01, 8.5794e-01,\n",
       "        1.8182e-07], grad_fn=<SigmoidBackward>)"
      ]
     },
     "execution_count": 110,
     "metadata": {},
     "output_type": "execute_result"
    }
   ],
   "source": [
    "p_list = []\n",
    "for i in x_range:\n",
    "    for j in y_range:\n",
    "        for k in z_range:\n",
    "            p_list.append([i, j, k])\n",
    "\n",
    "p_tensor = torch.Tensor(p_list)\n",
    "torch.sigmoid(10*model.forward(p_tensor, c_grid, 'middle')[:, -1])\n"
   ]
  },
  {
   "cell_type": "code",
   "execution_count": 8,
   "id": "9cb65e0f",
   "metadata": {},
   "outputs": [],
   "source": [
    "p = torch.Tensor([[0,0,0], [0,0,0]])"
   ]
  },
  {
   "cell_type": "code",
   "execution_count": 59,
   "id": "226d3554",
   "metadata": {},
   "outputs": [],
   "source": [
    "feature_0 = torch.arange(0, 10, 0.1)\n",
    "test_prob = []\n",
    "for fea in feature_0:\n",
    "    grid_middle = torch.zeros([1, 32, 10, 12, 20])\n",
    "    grid_middle[0, 1, 0, 0, 0] = fea\n",
    "    c_grid = dict({\"grid_coarse\": grid_coarse, \"grid_middle\": grid_middle, \n",
    "                \"grid_fine\": grid_fine, \"grid_color\": grid_color})\n",
    "    prob = model.forward(p, c_grid, 'middle')[:, -1][0]\n",
    "    if prob >-0.1 and prob <0.1:\n",
    "        test_prob.append([grid_middle[0, 1, 0, 0, 0], prob])"
   ]
  },
  {
   "cell_type": "code",
   "execution_count": 20,
   "id": "520b35f0",
   "metadata": {},
   "outputs": [
    {
     "data": {
      "text/plain": [
       "[]"
      ]
     },
     "execution_count": 20,
     "metadata": {},
     "output_type": "execute_result"
    }
   ],
   "source": [
    "test_prob"
   ]
  },
  {
   "cell_type": "code",
   "execution_count": 36,
   "id": "a8eadbf9",
   "metadata": {},
   "outputs": [],
   "source": [
    "import numpy as np"
   ]
  },
  {
   "cell_type": "code",
   "execution_count": null,
   "id": "2320e779",
   "metadata": {},
   "outputs": [],
   "source": [
    "#  torch.sigmoid(10*raw[..., -1])"
   ]
  },
  {
   "cell_type": "code",
   "execution_count": 106,
   "id": "ce92e6ca",
   "metadata": {},
   "outputs": [
    {
     "name": "stdout",
     "output_type": "stream",
     "text": [
      "tensor(0.0694, grad_fn=<SumBackward0>)\n",
      "tensor(0.0209, grad_fn=<SumBackward0>)\n",
      "tensor(0.0065, grad_fn=<SumBackward0>)\n",
      "1\n"
     ]
    },
    {
     "ename": "AttributeError",
     "evalue": "'Tensor' object has no attribute 'copy'",
     "output_type": "error",
     "traceback": [
      "\u001b[0;31m---------------------------------------------------------------------------\u001b[0m",
      "\u001b[0;31mAttributeError\u001b[0m                            Traceback (most recent call last)",
      "\u001b[0;32m/tmp/ipykernel_12793/1300359745.py\u001b[0m in \u001b[0;36m<module>\u001b[0;34m\u001b[0m\n\u001b[1;32m     16\u001b[0m     \u001b[0;32mif\u001b[0m \u001b[0mn\u001b[0m\u001b[0;34m>\u001b[0m\u001b[0;36m1\u001b[0m \u001b[0;32mand\u001b[0m \u001b[0mloss\u001b[0m\u001b[0;34m.\u001b[0m\u001b[0mitem\u001b[0m\u001b[0;34m(\u001b[0m\u001b[0;34m)\u001b[0m\u001b[0;34m<\u001b[0m\u001b[0mloss1\u001b[0m\u001b[0;34m.\u001b[0m\u001b[0mitem\u001b[0m\u001b[0;34m(\u001b[0m\u001b[0;34m)\u001b[0m\u001b[0;34m:\u001b[0m\u001b[0;34m\u001b[0m\u001b[0;34m\u001b[0m\u001b[0m\n\u001b[1;32m     17\u001b[0m         \u001b[0mprint\u001b[0m\u001b[0;34m(\u001b[0m\u001b[0;36m1\u001b[0m\u001b[0;34m)\u001b[0m\u001b[0;34m\u001b[0m\u001b[0;34m\u001b[0m\u001b[0m\n\u001b[0;32m---> 18\u001b[0;31m         \u001b[0mfinal_middle\u001b[0m \u001b[0;34m=\u001b[0m \u001b[0mmiddle_grid_para\u001b[0m\u001b[0;34m.\u001b[0m\u001b[0mcopy\u001b[0m\u001b[0;34m(\u001b[0m\u001b[0mdeep\u001b[0m \u001b[0;34m=\u001b[0m \u001b[0;32mTrue\u001b[0m\u001b[0;34m)\u001b[0m\u001b[0;34m\u001b[0m\u001b[0;34m\u001b[0m\u001b[0m\n\u001b[0m\u001b[1;32m     19\u001b[0m         \u001b[0mloss1\u001b[0m \u001b[0;34m=\u001b[0m \u001b[0mloss\u001b[0m\u001b[0;34m\u001b[0m\u001b[0;34m\u001b[0m\u001b[0m\n\u001b[1;32m     20\u001b[0m     \u001b[0mloss\u001b[0m\u001b[0;34m.\u001b[0m\u001b[0mbackward\u001b[0m\u001b[0;34m(\u001b[0m\u001b[0;34m)\u001b[0m\u001b[0;34m\u001b[0m\u001b[0;34m\u001b[0m\u001b[0m\n",
      "\u001b[0;31mAttributeError\u001b[0m: 'Tensor' object has no attribute 'copy'"
     ]
    }
   ],
   "source": [
    "from torch.autograd import Variable\n",
    "p = torch.Tensor([[0,0,0], [0,1,0]])\n",
    "middle_grid_para = Variable(torch.zeros(32), requires_grad = True)\n",
    "optimizer = torch.optim.Adam([{'params': middle_grid_para, 'lr': 0.01}])\n",
    "loss1 = torch.Tensor([3]).pow(2).sum()\n",
    "for n in range(70):\n",
    "\n",
    "    optimizer.zero_grad()\n",
    "    grid_middle = torch.zeros([1, 32, 10, 12, 20])\n",
    "    grid_middle[0, :, 0, 0, 0] = middle_grid_para\n",
    "    c_grid = dict({\"grid_coarse\": grid_coarse, \"grid_middle\": grid_middle, \n",
    "               \"grid_fine\": grid_fine, \"grid_color\": grid_color})\n",
    "    prob = torch.sigmoid(10*model.forward(p, c_grid, 'middle')[:, -1][0])\n",
    "    loss = (prob).pow(2).sum()\n",
    "    print(loss)\n",
    "    if n>1 and loss.item()<loss1.item():\n",
    "        print(1)\n",
    "        final_middle = middle_grid_para\n",
    "        loss1 = loss\n",
    "    loss.backward()\n",
    "    optimizer.step()\n"
   ]
  },
  {
   "cell_type": "code",
   "execution_count": 103,
   "id": "a4ed6d6b",
   "metadata": {},
   "outputs": [
    {
     "data": {
      "text/plain": [
       "tensor([-0.1057, -0.0879, -0.0830, -0.0849,  0.1114, -0.1169,  0.0843, -0.0727,\n",
       "         0.0768, -0.0847,  0.0845, -0.0739,  0.0936,  0.0854, -0.0775, -0.0855,\n",
       "        -0.0856, -0.0856, -0.0860, -0.0857,  0.0826,  0.0815, -0.0742,  0.0809,\n",
       "        -0.0701,  0.0875, -0.0843, -0.0851, -0.0852,  0.0921,  0.0957, -0.0855],\n",
       "       requires_grad=True)"
      ]
     },
     "execution_count": 103,
     "metadata": {},
     "output_type": "execute_result"
    }
   ],
   "source": [
    "\n",
    "final_middle"
   ]
  },
  {
   "cell_type": "code",
   "execution_count": 107,
   "id": "29d3a682",
   "metadata": {},
   "outputs": [
    {
     "data": {
      "text/plain": [
       "tensor([1.1843e-03, 2.5747e-11], grad_fn=<SigmoidBackward>)"
      ]
     },
     "execution_count": 107,
     "metadata": {},
     "output_type": "execute_result"
    }
   ],
   "source": [
    "grid_middle = torch.zeros([1, 32, 10, 12, 20])\n",
    "grid_middle[0, :, 0, 0, 0] = final_middle\n",
    "c_grid = dict({\"grid_coarse\": grid_coarse, \"grid_middle\": grid_middle, \n",
    "            \"grid_fine\": grid_fine, \"grid_color\": grid_color})\n",
    "torch.sigmoid(10*model.forward(p, c_grid, 'middle')[:, -1])"
   ]
  },
  {
   "cell_type": "code",
   "execution_count": 105,
   "id": "d0d67788",
   "metadata": {},
   "outputs": [
    {
     "data": {
      "text/plain": [
       "tensor([[0., 0., 0.],\n",
       "        [0., 1., 0.]])"
      ]
     },
     "execution_count": 105,
     "metadata": {},
     "output_type": "execute_result"
    }
   ],
   "source": [
    "p"
   ]
  },
  {
   "cell_type": "code",
   "execution_count": null,
   "id": "85d548f7",
   "metadata": {},
   "outputs": [],
   "source": []
  }
 ],
 "metadata": {
  "interpreter": {
   "hash": "1c4c175f2b9434f4138d72658ca9bbb5c8103c9d5f04cd2c122c1094c09e0765"
  },
  "kernelspec": {
   "display_name": "Python 3.7.11 ('nice-slam')",
   "language": "python",
   "name": "python3"
  },
  "language_info": {
   "codemirror_mode": {
    "name": "ipython",
    "version": 3
   },
   "file_extension": ".py",
   "mimetype": "text/x-python",
   "name": "python",
   "nbconvert_exporter": "python",
   "pygments_lexer": "ipython3",
   "version": "3.7.11"
  }
 },
 "nbformat": 4,
 "nbformat_minor": 5
}
